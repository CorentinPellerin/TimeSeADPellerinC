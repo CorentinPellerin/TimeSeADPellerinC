{
 "cells": [
  {
   "cell_type": "code",
   "execution_count": 27,
   "id": "79101db5-07c0-463e-a8a9-6e7d17a1be18",
   "metadata": {},
   "outputs": [],
   "source": [
    "import pandas as pd\n",
    "import numpy as np\n",
    "import torch\n",
    "import sys\n",
    "import timesead\n",
    "import json\n",
    "import matplotlib.pyplot as plt\n",
    "from sklearn.preprocessing import MinMaxScaler\n",
    "from sklearn.preprocessing import StandardScaler\n",
    "from sklearn.model_selection import train_test_split"
   ]
  },
  {
   "cell_type": "code",
   "execution_count": 83,
   "id": "daa4723e-dbd4-4226-a596-3c06a39c1310",
   "metadata": {
    "scrolled": true
   },
   "outputs": [],
   "source": [
    "#pour les fichiers json\n",
    "with open('C:/Users/pellerinc/TimeSeAD-master/data/SMAP/smap_checksums.json') as f:\n",
    "    data = json.load(f)\n",
    "\n",
    "dff = pd.DataFrame(list(data.items()), columns=['file', 'checksum'])"
   ]
  },
  {
   "cell_type": "code",
   "execution_count": 66,
   "id": "f40741c6-b07e-4213-aa76-49949113809a",
   "metadata": {
    "collapsed": true,
    "jupyter": {
     "outputs_hidden": true
    }
   },
   "outputs": [
    {
     "data": {
      "text/html": [
       "<div>\n",
       "<style scoped>\n",
       "    .dataframe tbody tr th:only-of-type {\n",
       "        vertical-align: middle;\n",
       "    }\n",
       "\n",
       "    .dataframe tbody tr th {\n",
       "        vertical-align: top;\n",
       "    }\n",
       "\n",
       "    .dataframe thead th {\n",
       "        text-align: right;\n",
       "    }\n",
       "</style>\n",
       "<table border=\"1\" class=\"dataframe\">\n",
       "  <thead>\n",
       "    <tr style=\"text-align: right;\">\n",
       "      <th></th>\n",
       "      <th>Fault</th>\n",
       "      <th>MAP</th>\n",
       "      <th>TPS</th>\n",
       "      <th>Force</th>\n",
       "      <th>Power</th>\n",
       "      <th>RPM</th>\n",
       "      <th>Consumption L/H</th>\n",
       "      <th>Consumption L/100KM</th>\n",
       "      <th>Speed</th>\n",
       "      <th>CO</th>\n",
       "      <th>HC</th>\n",
       "      <th>CO2</th>\n",
       "      <th>O2</th>\n",
       "      <th>Lambda</th>\n",
       "      <th>AFR</th>\n",
       "    </tr>\n",
       "  </thead>\n",
       "  <tbody>\n",
       "    <tr>\n",
       "      <th>0</th>\n",
       "      <td>0</td>\n",
       "      <td>3.549</td>\n",
       "      <td>1.889</td>\n",
       "      <td>7.428</td>\n",
       "      <td>5.227</td>\n",
       "      <td>1192.769</td>\n",
       "      <td>3.057</td>\n",
       "      <td>11.720</td>\n",
       "      <td>24.901</td>\n",
       "      <td>0.460</td>\n",
       "      <td>196.089</td>\n",
       "      <td>14.356</td>\n",
       "      <td>1.080</td>\n",
       "      <td>1.047</td>\n",
       "      <td>15.385</td>\n",
       "    </tr>\n",
       "    <tr>\n",
       "      <th>1</th>\n",
       "      <td>0</td>\n",
       "      <td>3.559</td>\n",
       "      <td>1.899</td>\n",
       "      <td>7.646</td>\n",
       "      <td>5.327</td>\n",
       "      <td>1145.191</td>\n",
       "      <td>2.914</td>\n",
       "      <td>11.276</td>\n",
       "      <td>25.030</td>\n",
       "      <td>0.478</td>\n",
       "      <td>196.283</td>\n",
       "      <td>14.492</td>\n",
       "      <td>1.107</td>\n",
       "      <td>1.083</td>\n",
       "      <td>15.926</td>\n",
       "    </tr>\n",
       "    <tr>\n",
       "      <th>2</th>\n",
       "      <td>0</td>\n",
       "      <td>3.539</td>\n",
       "      <td>1.899</td>\n",
       "      <td>7.578</td>\n",
       "      <td>5.100</td>\n",
       "      <td>1208.505</td>\n",
       "      <td>2.976</td>\n",
       "      <td>11.926</td>\n",
       "      <td>24.213</td>\n",
       "      <td>0.464</td>\n",
       "      <td>200.367</td>\n",
       "      <td>14.443</td>\n",
       "      <td>1.099</td>\n",
       "      <td>1.072</td>\n",
       "      <td>15.754</td>\n",
       "    </tr>\n",
       "    <tr>\n",
       "      <th>3</th>\n",
       "      <td>0</td>\n",
       "      <td>3.519</td>\n",
       "      <td>1.889</td>\n",
       "      <td>7.371</td>\n",
       "      <td>5.255</td>\n",
       "      <td>1164.127</td>\n",
       "      <td>2.908</td>\n",
       "      <td>11.786</td>\n",
       "      <td>24.407</td>\n",
       "      <td>0.471</td>\n",
       "      <td>195.345</td>\n",
       "      <td>13.853</td>\n",
       "      <td>1.076</td>\n",
       "      <td>1.006</td>\n",
       "      <td>14.787</td>\n",
       "    </tr>\n",
       "    <tr>\n",
       "      <th>4</th>\n",
       "      <td>0</td>\n",
       "      <td>3.549</td>\n",
       "      <td>1.879</td>\n",
       "      <td>7.405</td>\n",
       "      <td>5.177</td>\n",
       "      <td>1172.032</td>\n",
       "      <td>2.898</td>\n",
       "      <td>12.169</td>\n",
       "      <td>24.875</td>\n",
       "      <td>0.468</td>\n",
       "      <td>194.979</td>\n",
       "      <td>13.752</td>\n",
       "      <td>1.060</td>\n",
       "      <td>0.984</td>\n",
       "      <td>14.470</td>\n",
       "    </tr>\n",
       "  </tbody>\n",
       "</table>\n",
       "</div>"
      ],
      "text/plain": [
       "   Fault    MAP    TPS  Force  Power       RPM  Consumption L/H  \\\n",
       "0      0  3.549  1.889  7.428  5.227  1192.769            3.057   \n",
       "1      0  3.559  1.899  7.646  5.327  1145.191            2.914   \n",
       "2      0  3.539  1.899  7.578  5.100  1208.505            2.976   \n",
       "3      0  3.519  1.889  7.371  5.255  1164.127            2.908   \n",
       "4      0  3.549  1.879  7.405  5.177  1172.032            2.898   \n",
       "\n",
       "   Consumption L/100KM   Speed     CO       HC     CO2     O2  Lambda     AFR  \n",
       "0               11.720  24.901  0.460  196.089  14.356  1.080   1.047  15.385  \n",
       "1               11.276  25.030  0.478  196.283  14.492  1.107   1.083  15.926  \n",
       "2               11.926  24.213  0.464  200.367  14.443  1.099   1.072  15.754  \n",
       "3               11.786  24.407  0.471  195.345  13.853  1.076   1.006  14.787  \n",
       "4               12.169  24.875  0.468  194.979  13.752  1.060   0.984  14.470  "
      ]
     },
     "execution_count": 66,
     "metadata": {},
     "output_type": "execute_result"
    }
   ],
   "source": [
    "df.head()"
   ]
  },
  {
   "cell_type": "code",
   "execution_count": 101,
   "id": "5073c335-368d-42a1-af59-8b6b85d5ab45",
   "metadata": {},
   "outputs": [],
   "source": [
    "df = pd.read_csv('C:/Users/pellerinc/EngineFaultDB-main/EngineFaultDB-main/EngineFaultDB_Final.csv')"
   ]
  },
  {
   "cell_type": "code",
   "execution_count": 87,
   "id": "33199135-7a87-43d5-9755-cb86b45d8924",
   "metadata": {
    "collapsed": true,
    "jupyter": {
     "outputs_hidden": true
    },
    "scrolled": true
   },
   "outputs": [
    {
     "data": {
      "text/plain": [
       "(55999, 15)"
      ]
     },
     "execution_count": 87,
     "metadata": {},
     "output_type": "execute_result"
    }
   ],
   "source": [
    "df.shape"
   ]
  },
  {
   "cell_type": "code",
   "execution_count": 89,
   "id": "6c37ef1a-8deb-45c3-88d7-643dae124ea3",
   "metadata": {
    "collapsed": true,
    "jupyter": {
     "outputs_hidden": true
    }
   },
   "outputs": [
    {
     "name": "stdout",
     "output_type": "stream",
     "text": [
      "<class 'pandas.core.frame.DataFrame'>\n",
      "RangeIndex: 55999 entries, 0 to 55998\n",
      "Data columns (total 15 columns):\n",
      " #   Column               Non-Null Count  Dtype  \n",
      "---  ------               --------------  -----  \n",
      " 0   Fault                55999 non-null  int64  \n",
      " 1   MAP                  55999 non-null  float64\n",
      " 2   TPS                  55999 non-null  float64\n",
      " 3   Force                55999 non-null  float64\n",
      " 4   Power                55999 non-null  float64\n",
      " 5   RPM                  55999 non-null  float64\n",
      " 6   Consumption L/H      55999 non-null  float64\n",
      " 7   Consumption L/100KM  55999 non-null  float64\n",
      " 8   Speed                55999 non-null  float64\n",
      " 9   CO                   55999 non-null  float64\n",
      " 10  HC                   55999 non-null  float64\n",
      " 11  CO2                  55999 non-null  float64\n",
      " 12  O2                   55999 non-null  float64\n",
      " 13  Lambda               55999 non-null  float64\n",
      " 14  AFR                  55999 non-null  float64\n",
      "dtypes: float64(14), int64(1)\n",
      "memory usage: 6.4 MB\n"
     ]
    }
   ],
   "source": [
    "df.info()"
   ]
  },
  {
   "cell_type": "code",
   "execution_count": 47,
   "id": "02d6339f-74c5-437d-8b86-9fb656ff0f01",
   "metadata": {
    "collapsed": true,
    "jupyter": {
     "outputs_hidden": true
    }
   },
   "outputs": [
    {
     "data": {
      "text/html": [
       "<div>\n",
       "<style scoped>\n",
       "    .dataframe tbody tr th:only-of-type {\n",
       "        vertical-align: middle;\n",
       "    }\n",
       "\n",
       "    .dataframe tbody tr th {\n",
       "        vertical-align: top;\n",
       "    }\n",
       "\n",
       "    .dataframe thead th {\n",
       "        text-align: right;\n",
       "    }\n",
       "</style>\n",
       "<table border=\"1\" class=\"dataframe\">\n",
       "  <thead>\n",
       "    <tr style=\"text-align: right;\">\n",
       "      <th></th>\n",
       "      <th>Fault</th>\n",
       "      <th>MAP</th>\n",
       "      <th>TPS</th>\n",
       "      <th>Force</th>\n",
       "      <th>Power</th>\n",
       "      <th>RPM</th>\n",
       "      <th>Consumption L/H</th>\n",
       "      <th>Consumption L/100KM</th>\n",
       "      <th>Speed</th>\n",
       "      <th>CO</th>\n",
       "      <th>HC</th>\n",
       "      <th>CO2</th>\n",
       "      <th>O2</th>\n",
       "      <th>Lambda</th>\n",
       "      <th>AFR</th>\n",
       "    </tr>\n",
       "  </thead>\n",
       "  <tbody>\n",
       "    <tr>\n",
       "      <th>count</th>\n",
       "      <td>55999.000000</td>\n",
       "      <td>55999.000000</td>\n",
       "      <td>55999.000000</td>\n",
       "      <td>55999.000000</td>\n",
       "      <td>55999.000000</td>\n",
       "      <td>55999.000000</td>\n",
       "      <td>55999.000000</td>\n",
       "      <td>55999.000000</td>\n",
       "      <td>55999.000000</td>\n",
       "      <td>55999.000000</td>\n",
       "      <td>55999.000000</td>\n",
       "      <td>55999.000000</td>\n",
       "      <td>55999.000000</td>\n",
       "      <td>55999.000000</td>\n",
       "      <td>55999.000000</td>\n",
       "    </tr>\n",
       "    <tr>\n",
       "      <th>mean</th>\n",
       "      <td>1.482187</td>\n",
       "      <td>1.832515</td>\n",
       "      <td>1.395269</td>\n",
       "      <td>286.691705</td>\n",
       "      <td>5.657126</td>\n",
       "      <td>2398.053774</td>\n",
       "      <td>4.497634</td>\n",
       "      <td>8.939794</td>\n",
       "      <td>51.688740</td>\n",
       "      <td>1.932430</td>\n",
       "      <td>188.446083</td>\n",
       "      <td>13.035230</td>\n",
       "      <td>0.585910</td>\n",
       "      <td>0.963907</td>\n",
       "      <td>14.169408</td>\n",
       "    </tr>\n",
       "    <tr>\n",
       "      <th>std</th>\n",
       "      <td>1.149430</td>\n",
       "      <td>0.837786</td>\n",
       "      <td>0.906950</td>\n",
       "      <td>378.774917</td>\n",
       "      <td>7.684147</td>\n",
       "      <td>932.008680</td>\n",
       "      <td>2.221497</td>\n",
       "      <td>3.154110</td>\n",
       "      <td>20.140345</td>\n",
       "      <td>1.988789</td>\n",
       "      <td>111.047015</td>\n",
       "      <td>1.046567</td>\n",
       "      <td>0.223713</td>\n",
       "      <td>0.065973</td>\n",
       "      <td>0.969802</td>\n",
       "    </tr>\n",
       "    <tr>\n",
       "      <th>min</th>\n",
       "      <td>0.000000</td>\n",
       "      <td>0.453000</td>\n",
       "      <td>0.382000</td>\n",
       "      <td>2.580000</td>\n",
       "      <td>0.465000</td>\n",
       "      <td>1066.452000</td>\n",
       "      <td>1.917000</td>\n",
       "      <td>5.187000</td>\n",
       "      <td>22.757000</td>\n",
       "      <td>0.421000</td>\n",
       "      <td>1.787000</td>\n",
       "      <td>8.649000</td>\n",
       "      <td>0.203000</td>\n",
       "      <td>0.695000</td>\n",
       "      <td>10.210000</td>\n",
       "    </tr>\n",
       "    <tr>\n",
       "      <th>25%</th>\n",
       "      <td>0.000000</td>\n",
       "      <td>1.217000</td>\n",
       "      <td>0.901000</td>\n",
       "      <td>76.848500</td>\n",
       "      <td>0.994000</td>\n",
       "      <td>1830.200500</td>\n",
       "      <td>2.981000</td>\n",
       "      <td>6.573000</td>\n",
       "      <td>39.412000</td>\n",
       "      <td>0.641000</td>\n",
       "      <td>158.803000</td>\n",
       "      <td>12.842000</td>\n",
       "      <td>0.415000</td>\n",
       "      <td>0.937000</td>\n",
       "      <td>13.780000</td>\n",
       "    </tr>\n",
       "    <tr>\n",
       "      <th>50%</th>\n",
       "      <td>2.000000</td>\n",
       "      <td>1.543000</td>\n",
       "      <td>1.013000</td>\n",
       "      <td>92.500000</td>\n",
       "      <td>2.398000</td>\n",
       "      <td>2105.588000</td>\n",
       "      <td>3.824000</td>\n",
       "      <td>8.068000</td>\n",
       "      <td>45.393000</td>\n",
       "      <td>1.129000</td>\n",
       "      <td>178.265000</td>\n",
       "      <td>13.242000</td>\n",
       "      <td>0.533000</td>\n",
       "      <td>0.977000</td>\n",
       "      <td>14.365000</td>\n",
       "    </tr>\n",
       "    <tr>\n",
       "      <th>75%</th>\n",
       "      <td>3.000000</td>\n",
       "      <td>1.940000</td>\n",
       "      <td>1.258000</td>\n",
       "      <td>257.989500</td>\n",
       "      <td>4.696000</td>\n",
       "      <td>2761.373500</td>\n",
       "      <td>5.144500</td>\n",
       "      <td>9.924000</td>\n",
       "      <td>59.508000</td>\n",
       "      <td>2.455000</td>\n",
       "      <td>203.678000</td>\n",
       "      <td>13.639000</td>\n",
       "      <td>0.789000</td>\n",
       "      <td>1.008000</td>\n",
       "      <td>14.823000</td>\n",
       "    </tr>\n",
       "    <tr>\n",
       "      <th>max</th>\n",
       "      <td>3.000000</td>\n",
       "      <td>4.547000</td>\n",
       "      <td>4.048000</td>\n",
       "      <td>1537.118000</td>\n",
       "      <td>33.946000</td>\n",
       "      <td>5013.402000</td>\n",
       "      <td>14.810000</td>\n",
       "      <td>20.043000</td>\n",
       "      <td>107.539000</td>\n",
       "      <td>10.132000</td>\n",
       "      <td>975.657000</td>\n",
       "      <td>15.129000</td>\n",
       "      <td>1.151000</td>\n",
       "      <td>1.149000</td>\n",
       "      <td>16.893000</td>\n",
       "    </tr>\n",
       "  </tbody>\n",
       "</table>\n",
       "</div>"
      ],
      "text/plain": [
       "              Fault           MAP           TPS         Force         Power  \\\n",
       "count  55999.000000  55999.000000  55999.000000  55999.000000  55999.000000   \n",
       "mean       1.482187      1.832515      1.395269    286.691705      5.657126   \n",
       "std        1.149430      0.837786      0.906950    378.774917      7.684147   \n",
       "min        0.000000      0.453000      0.382000      2.580000      0.465000   \n",
       "25%        0.000000      1.217000      0.901000     76.848500      0.994000   \n",
       "50%        2.000000      1.543000      1.013000     92.500000      2.398000   \n",
       "75%        3.000000      1.940000      1.258000    257.989500      4.696000   \n",
       "max        3.000000      4.547000      4.048000   1537.118000     33.946000   \n",
       "\n",
       "                RPM  Consumption L/H  Consumption L/100KM         Speed  \\\n",
       "count  55999.000000     55999.000000         55999.000000  55999.000000   \n",
       "mean    2398.053774         4.497634             8.939794     51.688740   \n",
       "std      932.008680         2.221497             3.154110     20.140345   \n",
       "min     1066.452000         1.917000             5.187000     22.757000   \n",
       "25%     1830.200500         2.981000             6.573000     39.412000   \n",
       "50%     2105.588000         3.824000             8.068000     45.393000   \n",
       "75%     2761.373500         5.144500             9.924000     59.508000   \n",
       "max     5013.402000        14.810000            20.043000    107.539000   \n",
       "\n",
       "                 CO            HC           CO2            O2        Lambda  \\\n",
       "count  55999.000000  55999.000000  55999.000000  55999.000000  55999.000000   \n",
       "mean       1.932430    188.446083     13.035230      0.585910      0.963907   \n",
       "std        1.988789    111.047015      1.046567      0.223713      0.065973   \n",
       "min        0.421000      1.787000      8.649000      0.203000      0.695000   \n",
       "25%        0.641000    158.803000     12.842000      0.415000      0.937000   \n",
       "50%        1.129000    178.265000     13.242000      0.533000      0.977000   \n",
       "75%        2.455000    203.678000     13.639000      0.789000      1.008000   \n",
       "max       10.132000    975.657000     15.129000      1.151000      1.149000   \n",
       "\n",
       "                AFR  \n",
       "count  55999.000000  \n",
       "mean      14.169408  \n",
       "std        0.969802  \n",
       "min       10.210000  \n",
       "25%       13.780000  \n",
       "50%       14.365000  \n",
       "75%       14.823000  \n",
       "max       16.893000  "
      ]
     },
     "execution_count": 47,
     "metadata": {},
     "output_type": "execute_result"
    }
   ],
   "source": [
    "df.describe()"
   ]
  },
  {
   "cell_type": "code",
   "execution_count": 99,
   "id": "0df130aa-cf25-461b-852b-97d842fd46a1",
   "metadata": {
    "collapsed": true,
    "jupyter": {
     "outputs_hidden": true
    },
    "scrolled": true
   },
   "outputs": [
    {
     "data": {
      "text/plain": [
       "Fault                  0\n",
       "MAP                    0\n",
       "TPS                    0\n",
       "Force                  0\n",
       "Power                  0\n",
       "RPM                    0\n",
       "Consumption L/H        0\n",
       "Consumption L/100KM    0\n",
       "Speed                  0\n",
       "CO                     0\n",
       "HC                     0\n",
       "CO2                    0\n",
       "O2                     0\n",
       "Lambda                 0\n",
       "AFR                    0\n",
       "dtype: int64"
      ]
     },
     "execution_count": 99,
     "metadata": {},
     "output_type": "execute_result"
    }
   ],
   "source": [
    "df.isnull().sum() #verifications valeurs manquantes"
   ]
  },
  {
   "cell_type": "code",
   "execution_count": 102,
   "id": "7f26bfd4-c945-492c-8b4d-3f8c0b0d3ce8",
   "metadata": {
    "collapsed": true,
    "jupyter": {
     "outputs_hidden": true
    }
   },
   "outputs": [
    {
     "data": {
      "text/plain": [
       "Fault                      4\n",
       "MAP                      259\n",
       "TPS                      159\n",
       "Force                  40476\n",
       "Power                  10119\n",
       "RPM                    54819\n",
       "Consumption L/H         6808\n",
       "Consumption L/100KM     9208\n",
       "Speed                  30113\n",
       "CO                      5133\n",
       "HC                     41136\n",
       "CO2                     5242\n",
       "O2                       889\n",
       "Lambda                   416\n",
       "AFR                     5054\n",
       "dtype: int64"
      ]
     },
     "execution_count": 102,
     "metadata": {},
     "output_type": "execute_result"
    }
   ],
   "source": [
    "df.nunique() #verification doublons"
   ]
  },
  {
   "cell_type": "code",
   "execution_count": 48,
   "id": "0347d181-5b4f-4b94-8eac-c2f659169c4e",
   "metadata": {
    "collapsed": true,
    "jupyter": {
     "outputs_hidden": true
    }
   },
   "outputs": [
    {
     "data": {
      "image/png": "[encoded data removed]",
      "text/plain": [
       "<Figure size 800x600 with 1 Axes>"
      ]
     },
     "metadata": {},
     "output_type": "display_data"
    }
   ],
   "source": [
    "plt.figure(figsize=(8, 6))\n",
    "plt.plot(df['Speed'])\n",
    "plt.xlabel('Value')\n",
    "plt.ylabel('Speed')\n",
    "plt.show()"
   ]
  },
  {
   "cell_type": "code",
   "execution_count": 58,
   "id": "2380777e-fb07-4bd8-bbe4-78f65fac7403",
   "metadata": {
    "collapsed": true,
    "jupyter": {
     "outputs_hidden": true,
     "source_hidden": true
    }
   },
   "outputs": [
    {
     "name": "stdout",
     "output_type": "stream",
     "text": [
      "<class 'pandas.core.frame.DataFrame'>\n",
      "RangeIndex: 55999 entries, 0 to 55998\n",
      "Data columns (total 15 columns):\n",
      " #   Column               Non-Null Count  Dtype  \n",
      "---  ------               --------------  -----  \n",
      " 0   Fault                55999 non-null  int64  \n",
      " 1   MAP                  55999 non-null  float64\n",
      " 2   TPS                  55999 non-null  float64\n",
      " 3   Force                55999 non-null  float64\n",
      " 4   Power                55999 non-null  float64\n",
      " 5   RPM                  55999 non-null  float64\n",
      " 6   Consumption L/H      55999 non-null  float64\n",
      " 7   Consumption L/100KM  55999 non-null  float64\n",
      " 8   Speed                55999 non-null  float64\n",
      " 9   CO                   55999 non-null  float64\n",
      " 10  HC                   55999 non-null  float64\n",
      " 11  CO2                  55999 non-null  float64\n",
      " 12  O2                   55999 non-null  float64\n",
      " 13  Lambda               55999 non-null  float64\n",
      " 14  AFR                  55999 non-null  float64\n",
      "dtypes: float64(14), int64(1)\n",
      "memory usage: 6.4 MB\n"
     ]
    }
   ],
   "source": [
    "df.info() #surtout pour identifier potentielles valeurs manquantes"
   ]
  },
  {
   "cell_type": "code",
   "execution_count": null,
   "id": "a3d467ac-2636-49da-88e6-9bebc27874b3",
   "metadata": {},
   "outputs": [],
   "source": [
    "df_cleaned = df.dropna() #supprime les valeurs manquantes\n",
    "df_imputed = df.fillna(data.mean()) #remplace les valeurs manquantes avec la moyenne"
   ]
  },
  {
   "cell_type": "code",
   "execution_count": 26,
   "id": "c09e2aeb-c141-4fe9-87f5-1f81945e9820",
   "metadata": {},
   "outputs": [],
   "source": [
    "#ATTENTION : ne pas utiliser sans reflechir (outliers peuvent etre importants a garder pour entrainement)\n",
    "def remove_outliers(df): #retire les valeurs aberrantes avec la methode de l'écart interquartile \n",
    "    for column in df.select_dtypes(include=[np.number]).columns:\n",
    "        Q1 = df[column].quantile(0.25)\n",
    "        Q3 = df[column].quantile(0.75)\n",
    "        IQR = Q3 - Q1\n",
    "\n",
    "        lower_bound = Q1 - 1.5 * IQR\n",
    "        upper_bound = Q3 + 1.5 * IQR\n",
    "\n",
    "        df = df[(df[column] >= lower_bound) & (df[column] <= upper_bound)]\n",
    "\n",
    "    return df\n",
    "df_cleaned = remove_outliers(df)"
   ]
  },
  {
   "cell_type": "code",
   "execution_count": 106,
   "id": "6392312f-6492-4fb8-a9e7-9457b5009994",
   "metadata": {},
   "outputs": [],
   "source": [
    "#attention a garder division temporelle pour les timeseries\n",
    "X = df.drop(columns=['Fault'])  # Toutes les colonnes sauf 'Fault'\n",
    "y = df['Fault']  # La colonne 'Fault'\n",
    "\n",
    "# Divise les données en ensembles d'entraînement et de test\n",
    "X_train, X_test, y_train, y_test = train_test_split(X, y, test_size=0.2, random_state=42)"
   ]
  },
  {
   "cell_type": "code",
   "execution_count": 104,
   "id": "59526b4f-e8f5-4f77-9c34-71495cc2d3cc",
   "metadata": {},
   "outputs": [],
   "source": [
    "scaler = MinMaxScaler() #normalise les données\n",
    "#Préférable lorsque vous avez besoin de données dans une plage spécifique, surtout pour les algorithmes qui nécessitent des données normalisées dans une plage fixe.\n",
    "# Ajuste le scaler sur les données d'entraînement et transforme\n",
    "X_train_MM = scaler.fit_transform(X_train)\n",
    "# Transforme uniquement les données de test\n",
    "X_test_MM = scaler.transform(X_test)"
   ]
  },
  {
   "cell_type": "code",
   "execution_count": 71,
   "id": "41bf868a-8f31-457f-bdf9-dbc5c424168a",
   "metadata": {},
   "outputs": [],
   "source": [
    "scaler = StandardScaler() #standardise les données\n",
    "#Préférable pour des algorithmes sensibles à la variance des caractéristiques, comme les régressions linéaires, les SVM, et les algorithmes basés sur la distance (comme K-means).\n",
    "# Ajuste le scaler sur les données d'entraînement et transforme\n",
    "X_train_SS = scaler.fit_transform(X_train)\n",
    "# Transforme uniquement les données de test\n",
    "X_test_SS = scaler.transform(X_test)"
   ]
  },
  {
   "cell_type": "code",
   "execution_count": 105,
   "id": "d51b6946-97bc-4241-98b0-3bd2fe517785",
   "metadata": {
    "collapsed": true,
    "jupyter": {
     "outputs_hidden": true
    },
    "scrolled": true
   },
   "outputs": [
    {
     "data": {
      "image/png": "[encoded data removed]",
      "text/plain": [
       "<Figure size 600x600 with 1 Axes>"
      ]
     },
     "metadata": {},
     "output_type": "display_data"
    }
   ],
   "source": [
    "X_test_df = pd.DataFrame(X_test_SS, columns=X.columns)\n",
    "plt.figure(figsize=(6,6))\n",
    "plt.plot(X_test_df['Speed'])\n",
    "plt.xlabel('Value')\n",
    "plt.ylabel('Speed')\n",
    "plt.show()"
   ]
  },
  {
   "cell_type": "code",
   "execution_count": 82,
   "id": "01d4bd1f-6dc8-4c21-87c4-f1dc4bc19618",
   "metadata": {},
   "outputs": [
    {
     "name": "stdout",
     "output_type": "stream",
     "text": [
      "X_train shape: (44799, 14)\n",
      "X_test shape: (11200, 14)\n",
      "y_train shape: (44799,)\n",
      "y_test shape: (11200,)\n"
     ]
    }
   ],
   "source": [
    "print(f\"X_train shape: {X_train.shape}\")\n",
    "print(f\"X_test shape: {X_test.shape}\")\n",
    "print(f\"y_train shape: {y_train.shape}\")\n",
    "print(f\"y_test shape: {y_test.shape}\")"
   ]
  },
  {
   "cell_type": "code",
   "execution_count": 88,
   "id": "8b3dd400-16ff-4be0-b8fa-98a3e57ec04c",
   "metadata": {
    "collapsed": true,
    "jupyter": {
     "outputs_hidden": true
    }
   },
   "outputs": [
    {
     "data": {
      "text/html": [
       "<div>\n",
       "<style scoped>\n",
       "    .dataframe tbody tr th:only-of-type {\n",
       "        vertical-align: middle;\n",
       "    }\n",
       "\n",
       "    .dataframe tbody tr th {\n",
       "        vertical-align: top;\n",
       "    }\n",
       "\n",
       "    .dataframe thead th {\n",
       "        text-align: right;\n",
       "    }\n",
       "</style>\n",
       "<table border=\"1\" class=\"dataframe\">\n",
       "  <thead>\n",
       "    <tr style=\"text-align: right;\">\n",
       "      <th></th>\n",
       "      <th>Fault</th>\n",
       "      <th>MAP</th>\n",
       "      <th>TPS</th>\n",
       "      <th>Force</th>\n",
       "      <th>Power</th>\n",
       "      <th>RPM</th>\n",
       "      <th>Consumption L/H</th>\n",
       "      <th>Consumption L/100KM</th>\n",
       "      <th>Speed</th>\n",
       "      <th>CO</th>\n",
       "      <th>HC</th>\n",
       "      <th>CO2</th>\n",
       "      <th>O2</th>\n",
       "      <th>Lambda</th>\n",
       "      <th>AFR</th>\n",
       "    </tr>\n",
       "  </thead>\n",
       "  <tbody>\n",
       "    <tr>\n",
       "      <th>0</th>\n",
       "      <td>0.0</td>\n",
       "      <td>0.756229</td>\n",
       "      <td>0.411075</td>\n",
       "      <td>0.003159</td>\n",
       "      <td>0.142230</td>\n",
       "      <td>0.032004</td>\n",
       "      <td>0.088420</td>\n",
       "      <td>0.439755</td>\n",
       "      <td>0.025288</td>\n",
       "      <td>0.004016</td>\n",
       "      <td>0.199515</td>\n",
       "      <td>0.880710</td>\n",
       "      <td>0.925105</td>\n",
       "      <td>0.775330</td>\n",
       "      <td>0.774353</td>\n",
       "    </tr>\n",
       "    <tr>\n",
       "      <th>1</th>\n",
       "      <td>0.0</td>\n",
       "      <td>0.758671</td>\n",
       "      <td>0.413803</td>\n",
       "      <td>0.003301</td>\n",
       "      <td>0.145217</td>\n",
       "      <td>0.019949</td>\n",
       "      <td>0.077329</td>\n",
       "      <td>0.409868</td>\n",
       "      <td>0.026810</td>\n",
       "      <td>0.005870</td>\n",
       "      <td>0.199715</td>\n",
       "      <td>0.901698</td>\n",
       "      <td>0.953586</td>\n",
       "      <td>0.854626</td>\n",
       "      <td>0.855305</td>\n",
       "    </tr>\n",
       "    <tr>\n",
       "      <th>2</th>\n",
       "      <td>0.0</td>\n",
       "      <td>0.753786</td>\n",
       "      <td>0.413803</td>\n",
       "      <td>0.003257</td>\n",
       "      <td>0.138437</td>\n",
       "      <td>0.035991</td>\n",
       "      <td>0.082138</td>\n",
       "      <td>0.453621</td>\n",
       "      <td>0.017173</td>\n",
       "      <td>0.004428</td>\n",
       "      <td>0.203908</td>\n",
       "      <td>0.894136</td>\n",
       "      <td>0.945148</td>\n",
       "      <td>0.830396</td>\n",
       "      <td>0.829568</td>\n",
       "    </tr>\n",
       "    <tr>\n",
       "      <th>3</th>\n",
       "      <td>0.0</td>\n",
       "      <td>0.748901</td>\n",
       "      <td>0.411075</td>\n",
       "      <td>0.003122</td>\n",
       "      <td>0.143066</td>\n",
       "      <td>0.024747</td>\n",
       "      <td>0.076863</td>\n",
       "      <td>0.444198</td>\n",
       "      <td>0.019462</td>\n",
       "      <td>0.005149</td>\n",
       "      <td>0.198751</td>\n",
       "      <td>0.803086</td>\n",
       "      <td>0.920886</td>\n",
       "      <td>0.685022</td>\n",
       "      <td>0.684872</td>\n",
       "    </tr>\n",
       "    <tr>\n",
       "      <th>4</th>\n",
       "      <td>0.0</td>\n",
       "      <td>0.756229</td>\n",
       "      <td>0.408347</td>\n",
       "      <td>0.003144</td>\n",
       "      <td>0.140737</td>\n",
       "      <td>0.026750</td>\n",
       "      <td>0.076088</td>\n",
       "      <td>0.469978</td>\n",
       "      <td>0.024982</td>\n",
       "      <td>0.004840</td>\n",
       "      <td>0.198376</td>\n",
       "      <td>0.787500</td>\n",
       "      <td>0.904008</td>\n",
       "      <td>0.636564</td>\n",
       "      <td>0.637438</td>\n",
       "    </tr>\n",
       "  </tbody>\n",
       "</table>\n",
       "</div>"
      ],
      "text/plain": [
       "   Fault       MAP       TPS     Force     Power       RPM  Consumption L/H  \\\n",
       "0    0.0  0.756229  0.411075  0.003159  0.142230  0.032004         0.088420   \n",
       "1    0.0  0.758671  0.413803  0.003301  0.145217  0.019949         0.077329   \n",
       "2    0.0  0.753786  0.413803  0.003257  0.138437  0.035991         0.082138   \n",
       "3    0.0  0.748901  0.411075  0.003122  0.143066  0.024747         0.076863   \n",
       "4    0.0  0.756229  0.408347  0.003144  0.140737  0.026750         0.076088   \n",
       "\n",
       "   Consumption L/100KM     Speed        CO        HC       CO2        O2  \\\n",
       "0             0.439755  0.025288  0.004016  0.199515  0.880710  0.925105   \n",
       "1             0.409868  0.026810  0.005870  0.199715  0.901698  0.953586   \n",
       "2             0.453621  0.017173  0.004428  0.203908  0.894136  0.945148   \n",
       "3             0.444198  0.019462  0.005149  0.198751  0.803086  0.920886   \n",
       "4             0.469978  0.024982  0.004840  0.198376  0.787500  0.904008   \n",
       "\n",
       "     Lambda       AFR  \n",
       "0  0.775330  0.774353  \n",
       "1  0.854626  0.855305  \n",
       "2  0.830396  0.829568  \n",
       "3  0.685022  0.684872  \n",
       "4  0.636564  0.637438  "
      ]
     },
     "execution_count": 88,
     "metadata": {},
     "output_type": "execute_result"
    }
   ],
   "source": [
    "df_normalized_todf.head()"
   ]
  },
  {
   "cell_type": "code",
   "execution_count": 96,
   "id": "78032b69-bb0f-4daf-8cb6-88c8996ee6ea",
   "metadata": {
    "collapsed": true,
    "jupyter": {
     "outputs_hidden": true
    }
   },
   "outputs": [
    {
     "data": {
      "text/html": [
       "<div>\n",
       "<style scoped>\n",
       "    .dataframe tbody tr th:only-of-type {\n",
       "        vertical-align: middle;\n",
       "    }\n",
       "\n",
       "    .dataframe tbody tr th {\n",
       "        vertical-align: top;\n",
       "    }\n",
       "\n",
       "    .dataframe thead th {\n",
       "        text-align: right;\n",
       "    }\n",
       "</style>\n",
       "<table border=\"1\" class=\"dataframe\">\n",
       "  <thead>\n",
       "    <tr style=\"text-align: right;\">\n",
       "      <th></th>\n",
       "      <th>Fault</th>\n",
       "      <th>MAP</th>\n",
       "      <th>TPS</th>\n",
       "      <th>Force</th>\n",
       "      <th>Power</th>\n",
       "      <th>RPM</th>\n",
       "      <th>Consumption L/H</th>\n",
       "      <th>Consumption L/100KM</th>\n",
       "      <th>Speed</th>\n",
       "      <th>CO</th>\n",
       "      <th>HC</th>\n",
       "      <th>CO2</th>\n",
       "      <th>O2</th>\n",
       "      <th>Lambda</th>\n",
       "      <th>AFR</th>\n",
       "    </tr>\n",
       "  </thead>\n",
       "  <tbody>\n",
       "    <tr>\n",
       "      <th>0</th>\n",
       "      <td>-1.289509</td>\n",
       "      <td>2.048853</td>\n",
       "      <td>0.544390</td>\n",
       "      <td>-0.737288</td>\n",
       "      <td>-0.055976</td>\n",
       "      <td>-1.293224</td>\n",
       "      <td>-0.648503</td>\n",
       "      <td>0.881463</td>\n",
       "      <td>-1.330066</td>\n",
       "      <td>-0.740372</td>\n",
       "      <td>0.068827</td>\n",
       "      <td>1.262014</td>\n",
       "      <td>2.208607</td>\n",
       "      <td>1.259517</td>\n",
       "      <td>1.253454</td>\n",
       "    </tr>\n",
       "    <tr>\n",
       "      <th>1</th>\n",
       "      <td>-1.289509</td>\n",
       "      <td>2.060789</td>\n",
       "      <td>0.555417</td>\n",
       "      <td>-0.736712</td>\n",
       "      <td>-0.042962</td>\n",
       "      <td>-1.344273</td>\n",
       "      <td>-0.712874</td>\n",
       "      <td>0.740693</td>\n",
       "      <td>-1.323660</td>\n",
       "      <td>-0.731321</td>\n",
       "      <td>0.070574</td>\n",
       "      <td>1.391964</td>\n",
       "      <td>2.329298</td>\n",
       "      <td>1.805203</td>\n",
       "      <td>1.811305</td>\n",
       "    </tr>\n",
       "    <tr>\n",
       "      <th>2</th>\n",
       "      <td>-1.289509</td>\n",
       "      <td>2.036917</td>\n",
       "      <td>0.555417</td>\n",
       "      <td>-0.736892</td>\n",
       "      <td>-0.072504</td>\n",
       "      <td>-1.276339</td>\n",
       "      <td>-0.684965</td>\n",
       "      <td>0.946775</td>\n",
       "      <td>-1.364226</td>\n",
       "      <td>-0.738360</td>\n",
       "      <td>0.107351</td>\n",
       "      <td>1.345144</td>\n",
       "      <td>2.293538</td>\n",
       "      <td>1.638465</td>\n",
       "      <td>1.633948</td>\n",
       "    </tr>\n",
       "    <tr>\n",
       "      <th>3</th>\n",
       "      <td>-1.289509</td>\n",
       "      <td>2.013044</td>\n",
       "      <td>0.544390</td>\n",
       "      <td>-0.737438</td>\n",
       "      <td>-0.052332</td>\n",
       "      <td>-1.323955</td>\n",
       "      <td>-0.715575</td>\n",
       "      <td>0.902388</td>\n",
       "      <td>-1.354594</td>\n",
       "      <td>-0.734840</td>\n",
       "      <td>0.062127</td>\n",
       "      <td>0.781391</td>\n",
       "      <td>2.190727</td>\n",
       "      <td>0.638042</td>\n",
       "      <td>0.636828</td>\n",
       "    </tr>\n",
       "    <tr>\n",
       "      <th>4</th>\n",
       "      <td>-1.289509</td>\n",
       "      <td>2.048853</td>\n",
       "      <td>0.533364</td>\n",
       "      <td>-0.737349</td>\n",
       "      <td>-0.062483</td>\n",
       "      <td>-1.315474</td>\n",
       "      <td>-0.720077</td>\n",
       "      <td>1.023818</td>\n",
       "      <td>-1.331356</td>\n",
       "      <td>-0.736349</td>\n",
       "      <td>0.058831</td>\n",
       "      <td>0.684884</td>\n",
       "      <td>2.119206</td>\n",
       "      <td>0.304568</td>\n",
       "      <td>0.309955</td>\n",
       "    </tr>\n",
       "  </tbody>\n",
       "</table>\n",
       "</div>"
      ],
      "text/plain": [
       "      Fault       MAP       TPS     Force     Power       RPM  \\\n",
       "0 -1.289509  2.048853  0.544390 -0.737288 -0.055976 -1.293224   \n",
       "1 -1.289509  2.060789  0.555417 -0.736712 -0.042962 -1.344273   \n",
       "2 -1.289509  2.036917  0.555417 -0.736892 -0.072504 -1.276339   \n",
       "3 -1.289509  2.013044  0.544390 -0.737438 -0.052332 -1.323955   \n",
       "4 -1.289509  2.048853  0.533364 -0.737349 -0.062483 -1.315474   \n",
       "\n",
       "   Consumption L/H  Consumption L/100KM     Speed        CO        HC  \\\n",
       "0        -0.648503             0.881463 -1.330066 -0.740372  0.068827   \n",
       "1        -0.712874             0.740693 -1.323660 -0.731321  0.070574   \n",
       "2        -0.684965             0.946775 -1.364226 -0.738360  0.107351   \n",
       "3        -0.715575             0.902388 -1.354594 -0.734840  0.062127   \n",
       "4        -0.720077             1.023818 -1.331356 -0.736349  0.058831   \n",
       "\n",
       "        CO2        O2    Lambda       AFR  \n",
       "0  1.262014  2.208607  1.259517  1.253454  \n",
       "1  1.391964  2.329298  1.805203  1.811305  \n",
       "2  1.345144  2.293538  1.638465  1.633948  \n",
       "3  0.781391  2.190727  0.638042  0.636828  \n",
       "4  0.684884  2.119206  0.304568  0.309955  "
      ]
     },
     "execution_count": 96,
     "metadata": {},
     "output_type": "execute_result"
    }
   ],
   "source": [
    "df_standardized_todf.head()"
   ]
  },
  {
   "cell_type": "code",
   "execution_count": 23,
   "id": "344c7028-0111-4a65-ac2b-dc10def8fcf2",
   "metadata": {},
   "outputs": [
    {
     "name": "stdout",
     "output_type": "stream",
     "text": [
      "X_train_tensor shape: torch.Size([44799, 14])\n",
      "y_train_tensor shape: torch.Size([44799])\n"
     ]
    }
   ],
   "source": [
    "# Convertit les ensembles en tenseurs (attention au type de donnees de y dans dtype)\n",
    "X_train_tensor = torch.tensor(X_train, dtype=torch.float32)\n",
    "X_test_tensor = torch.tensor(X_test, dtype=torch.float32)\n",
    "y_train_tensor = torch.tensor(y_train.values, dtype=torch.float32)\n",
    "y_test_tensor = torch.tensor(y_test.values, dtype=torch.float32)\n",
    "\n",
    "print(f\"X_train_tensor shape: {X_train_tensor.shape}\")\n",
    "print(f\"y_train_tensor shape: {y_train_tensor.shape}\")"
   ]
  },
  {
   "cell_type": "code",
   "execution_count": null,
   "id": "15578c56-d900-4b2f-8649-b0a56070d7c6",
   "metadata": {},
   "outputs": [],
   "source": [
    "#entrainement du modele"
   ]
  }
 ],
 "metadata": {
  "kernelspec": {
   "display_name": "Python (timesead_env)",
   "language": "python",
   "name": "timesead_env"
  },
  "language_info": {
   "codemirror_mode": {
    "name": "ipython",
    "version": 3
   },
   "file_extension": ".py",
   "mimetype": "text/x-python",
   "name": "python",
   "nbconvert_exporter": "python",
   "pygments_lexer": "ipython3",
   "version": "3.9.21"
  }
 },
 "nbformat": 4,
 "nbformat_minor": 5
}
